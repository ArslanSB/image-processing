{
 "cells": [
  {
   "cell_type": "code",
   "execution_count": 1,
   "metadata": {},
   "outputs": [
    {
     "name": "stdout",
     "output_type": "stream",
     "text": [
      "Requirement already satisfied: opencv-python in /usr/local/lib/python3.5/dist-packages (4.1.0.25)\r\n",
      "Requirement already satisfied: numpy>=1.11.1 in /usr/local/lib/python3.5/dist-packages (from opencv-python) (1.16.3)\r\n"
     ]
    }
   ],
   "source": [
    "!pip install opencv-python"
   ]
  },
  {
   "cell_type": "code",
   "execution_count": 2,
   "metadata": {},
   "outputs": [
    {
     "name": "stderr",
     "output_type": "stream",
     "text": [
      "Using TensorFlow backend.\n"
     ]
    }
   ],
   "source": [
    "import keras\n",
    "from keras.datasets import mnist\n",
    "import tensorflow as tf"
   ]
  },
  {
   "cell_type": "code",
   "execution_count": 3,
   "metadata": {},
   "outputs": [
    {
     "name": "stdout",
     "output_type": "stream",
     "text": [
      "Downloading data from https://s3.amazonaws.com/img-datasets/mnist.npz\n",
      "11493376/11490434 [==============================] - 12s 1us/step\n"
     ]
    }
   ],
   "source": [
    "(mnist_train_images, mnist_train_labels), (mnist_test_images, mnist_test_labels) = mnist.load_data()"
   ]
  },
  {
   "cell_type": "code",
   "execution_count": 4,
   "metadata": {},
   "outputs": [],
   "source": [
    "from tensorflow.keras import backend as K\n",
    "\n",
    "train_images = mnist_train_images.reshape(mnist_train_images.shape[0], 28, 28, 1)\n",
    "test_images = mnist_test_images.reshape(mnist_test_images.shape[0], 28, 28, 1)\n",
    "    \n",
    "train_images = train_images.astype('float32')\n",
    "test_images = test_images.astype('float32')\n",
    "train_images /= 255\n",
    "test_images /= 255"
   ]
  },
  {
   "cell_type": "code",
   "execution_count": 5,
   "metadata": {},
   "outputs": [],
   "source": [
    "nums = ['CERO', 'UNO', 'DOS', 'TRES', 'CUATRO', 'CINCO', 'SEIS', 'SIETE', 'OCHO', 'NUEVE']"
   ]
  },
  {
   "cell_type": "code",
   "execution_count": 6,
   "metadata": {},
   "outputs": [],
   "source": [
    "train_labels = keras.utils.to_categorical(mnist_train_labels, 10)\n",
    "test_labels = keras.utils.to_categorical(mnist_test_labels, 10)"
   ]
  },
  {
   "cell_type": "code",
   "execution_count": 7,
   "metadata": {},
   "outputs": [
    {
     "name": "stdout",
     "output_type": "stream",
     "text": [
      "WARNING:tensorflow:From /usr/local/lib/python3.5/dist-packages/tensorflow/python/ops/resource_variable_ops.py:435: colocate_with (from tensorflow.python.framework.ops) is deprecated and will be removed in a future version.\n",
      "Instructions for updating:\n",
      "Colocations handled automatically by placer.\n",
      "WARNING:tensorflow:From /usr/local/lib/python3.5/dist-packages/tensorflow/python/keras/layers/core.py:143: calling dropout (from tensorflow.python.ops.nn_ops) with keep_prob is deprecated and will be removed in a future version.\n",
      "Instructions for updating:\n",
      "Please use `rate` instead of `keep_prob`. Rate should be set to `rate = 1 - keep_prob`.\n",
      "WARNING:tensorflow:From /usr/local/lib/python3.5/dist-packages/tensorflow/python/ops/math_ops.py:3066: to_int32 (from tensorflow.python.ops.math_ops) is deprecated and will be removed in a future version.\n",
      "Instructions for updating:\n",
      "Use tf.cast instead.\n",
      "[0. 0. 0. 0. 0. 1. 0. 0. 0. 0.]\n"
     ]
    },
    {
     "data": {
      "image/png": "[encoded data removed]",
      "text/plain": [
       "<Figure size 432x288 with 1 Axes>"
      ]
     },
     "metadata": {
      "needs_background": "light"
     },
     "output_type": "display_data"
    },
    {
     "name": "stdout",
     "output_type": "stream",
     "text": [
      "CINCO\n"
     ]
    }
   ],
   "source": [
    "import matplotlib.pyplot as plt\n",
    "%matplotlib inline\n",
    "\n",
    "model = tf.keras.models.load_model('MNIST-HandWriting-CNN.model')\n",
    "\n",
    "def prepare(index):\n",
    "    \n",
    "    #Print the one-hot array of this sample's label \n",
    "    print(train_labels[index])  \n",
    "    #Print the label converted back to a number\n",
    "    label = train_labels[index].argmax(axis=0)\n",
    "    #Reshape the 768 values to a 28x28 image\n",
    "    image = train_images[index].reshape([28,28])\n",
    "    plt.title('Sample: %d  Label: %d' % (index, label))\n",
    "    plt.imshow(image, cmap=plt.get_cmap('gray_r'))\n",
    "    plt.show()\n",
    "    \n",
    "    return train_images[index].reshape(1, 28, 28, 1)\n",
    "\n",
    "p = model.predict_classes([prepare(0)])\n",
    "print(nums[p[0]])"
   ]
  },
  {
   "cell_type": "code",
   "execution_count": 8,
   "metadata": {},
   "outputs": [
    {
     "name": "stdout",
     "output_type": "stream",
     "text": [
      "[0. 0. 0. 1. 0. 0. 0. 0. 0. 0.]\n"
     ]
    },
    {
     "data": {
      "image/png": "[encoded data removed]",
      "text/plain": [
       "<Figure size 432x288 with 1 Axes>"
      ]
     },
     "metadata": {
      "needs_background": "light"
     },
     "output_type": "display_data"
    },
    {
     "name": "stdout",
     "output_type": "stream",
     "text": [
      "TRES\n"
     ]
    }
   ],
   "source": [
    "p = model.predict_classes([prepare(1234)])\n",
    "print(nums[p[0]])"
   ]
  },
  {
   "cell_type": "code",
   "execution_count": 9,
   "metadata": {},
   "outputs": [
    {
     "name": "stdout",
     "output_type": "stream",
     "text": [
      "[0. 1. 0. 0. 0. 0. 0. 0. 0. 0.]\n"
     ]
    },
    {
     "data": {
      "image/png": "[encoded data removed]",
      "text/plain": [
       "<Figure size 432x288 with 1 Axes>"
      ]
     },
     "metadata": {
      "needs_background": "light"
     },
     "output_type": "display_data"
    },
    {
     "name": "stdout",
     "output_type": "stream",
     "text": [
      "UNO\n"
     ]
    }
   ],
   "source": [
    "p = model.predict_classes([prepare(205)])\n",
    "print(nums[p[0]])"
   ]
  },
  {
   "cell_type": "code",
   "execution_count": 10,
   "metadata": {},
   "outputs": [
    {
     "data": {
      "image/png": "[encoded data removed]",
      "text/plain": [
       "<Figure size 432x288 with 1 Axes>"
      ]
     },
     "metadata": {
      "needs_background": "light"
     },
     "output_type": "display_data"
    },
    {
     "name": "stdout",
     "output_type": "stream",
     "text": [
      "[1]\n",
      "UNO\n"
     ]
    }
   ],
   "source": [
    "import cv2\n",
    "def prepareImage(filename):\n",
    "    img_arr = cv2.imread(filename, cv2.IMREAD_GRAYSCALE)\n",
    "    img_arr = cv2.resize(img_arr, (28, 28))\n",
    "    \n",
    "    plt.title('Sample: 0 - Testing')\n",
    "    plt.imshow(img_arr)\n",
    "    plt.show()\n",
    "    \n",
    "    return img_arr.reshape(1, 28, 28, 1)\n",
    "\n",
    "p = model.predict_classes([prepareImage('uploaded.png')])\n",
    "print(p)\n",
    "print(nums[p[0]])"
   ]
  },
  {
   "cell_type": "code",
   "execution_count": 19,
   "metadata": {},
   "outputs": [
    {
     "name": "stdout",
     "output_type": "stream",
     "text": [
      "[[0. 1. 0. 0. 0. 0. 0. 0. 0. 0.]]\n",
      " - 0s - loss: 16.1181 - acc: 0.0000e+00\n"
     ]
    }
   ],
   "source": [
    "img_arr = cv2.imread('uploaded.png', cv2.IMREAD_GRAYSCALE)\n",
    "img_arr = cv2.resize(img_arr, (28, 28))\n",
    "img_arr = img_arr.reshape(28, 28, 1)\n",
    "\n",
    "import numpy as np\n",
    "from keras.utils import np_utils\n",
    "\n",
    "images = np.array(img_arr)\n",
    "images = images.reshape(1,28,28,1)\n",
    "\n",
    "feature_data = np.array(images);\n",
    "label_data = np.array([1])\n",
    "\n",
    "label_data = np_utils.to_categorical(label_data, 10)\n",
    "print(label_data)\n",
    "\n",
    "history = model.fit(feature_data, label_data, verbose=2)\n"
   ]
  },
  {
   "cell_type": "code",
   "execution_count": 18,
   "metadata": {},
   "outputs": [
    {
     "name": "stdout",
     "output_type": "stream",
     "text": [
      "[16.118095, 0.0]\n"
     ]
    }
   ],
   "source": [
    "import numpy as np\n",
    "from keras.utils import np_utils\n",
    "\n",
    "img_arr = cv2.imread('uploaded.png', cv2.IMREAD_GRAYSCALE)\n",
    "img_arr = cv2.resize(img_arr, (28, 28))\n",
    "img_arr = img_arr.reshape(28, 28, 1)\n",
    "\n",
    "images = np.array(img_arr)\n",
    "images = images.reshape(1,28,28,1)\n",
    "\n",
    "feature_data = np.array(images);\n",
    "label_data = np.array([1])\n",
    "\n",
    "label_data = np_utils.to_categorical(label_data, 10)\n",
    "\n",
    "batch = model.train_on_batch(feature_data, label_data)\n",
    "print(batch)"
   ]
  },
  {
   "cell_type": "code",
   "execution_count": 13,
   "metadata": {},
   "outputs": [],
   "source": [
    "model.save(\"MNIST-HandWriting-CNN.model\")"
   ]
  },
  {
   "cell_type": "code",
   "execution_count": 20,
   "metadata": {},
   "outputs": [
    {
     "data": {
      "image/png": "[encoded data removed]",
      "text/plain": [
       "<Figure size 432x288 with 1 Axes>"
      ]
     },
     "metadata": {
      "needs_background": "light"
     },
     "output_type": "display_data"
    },
    {
     "name": "stdout",
     "output_type": "stream",
     "text": [
      "[1]\n",
      "UNO\n"
     ]
    }
   ],
   "source": [
    "p = model.predict_classes([prepareImage('uploaded.png')])\n",
    "print(p)\n",
    "print(nums[p[0]])"
   ]
  },
  {
   "cell_type": "code",
   "execution_count": 30,
   "metadata": {},
   "outputs": [
    {
     "name": "stdout",
     "output_type": "stream",
     "text": [
      "[[0. 0. 0. 0. 0. 0. 0. 0. 0. 1.]]\n",
      "[16.118095, 0.0]\n"
     ]
    }
   ],
   "source": [
    "import numpy as np\n",
    "from keras.utils import np_utils\n",
    "\n",
    "img_arr = cv2.imread('uploaded.png', cv2.IMREAD_GRAYSCALE)\n",
    "img_arr = cv2.resize(img_arr, (28, 28))\n",
    "img_arr = img_arr.reshape(28, 28, 1)\n",
    "\n",
    "images = np.array(img_arr)\n",
    "images = images.reshape(1,28,28,1)\n",
    "\n",
    "feature_data = np.array(images);\n",
    "label_data = np.array([9])\n",
    "\n",
    "label_data = np_utils.to_categorical(label_data, 10)\n",
    "\n",
    "weights = np.array([10])\n",
    "\n",
    "print(label_data)\n",
    "\n",
    "batch = model.train_on_batch(feature_data, label_data, weights)\n",
    "print(batch)"
   ]
  },
  {
   "cell_type": "code",
   "execution_count": 27,
   "metadata": {},
   "outputs": [
    {
     "name": "stdout",
     "output_type": "stream",
     "text": [
      "Test loss: 16.11809539794922\n",
      "Test accuracy: 0.0\n"
     ]
    }
   ],
   "source": [
    "score = model.evaluate(feature_data, label_data, verbose=0)\n",
    "print('Test loss:', score[0])\n",
    "print('Test accuracy:', score[1])"
   ]
  }
 ],
 "metadata": {
  "kernelspec": {
   "display_name": "Python 3",
   "language": "python",
   "name": "python3"
  },
  "language_info": {
   "codemirror_mode": {
    "name": "ipython",
    "version": 3
   },
   "file_extension": ".py",
   "mimetype": "text/x-python",
   "name": "python",
   "nbconvert_exporter": "python",
   "pygments_lexer": "ipython3",
   "version": "3.5.2"
  }
 },
 "nbformat": 4,
 "nbformat_minor": 2
}
